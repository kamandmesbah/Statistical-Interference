{
  "nbformat": 4,
  "nbformat_minor": 0,
  "metadata": {
    "colab": {
      "provenance": []
    },
    "kernelspec": {
      "name": "python3",
      "display_name": "Python 3"
    },
    "language_info": {
      "name": "python"
    }
  },
  "cells": [
    {
      "cell_type": "code",
      "execution_count": 1,
      "metadata": {
        "colab": {
          "base_uri": "https://localhost:8080/"
        },
        "id": "4GFGNP3Gt26I",
        "outputId": "3ec91106-8d0c-4025-b95f-54d084f026a4"
      },
      "outputs": [
        {
          "output_type": "stream",
          "name": "stdout",
          "text": [
            "F-value:  13.0\n",
            "P-value:  0.0019196756805123854\n"
          ]
        }
      ],
      "source": [
        "import scipy.stats as stats\n",
        "\n",
        "# Assuming you have your data in the following format\n",
        "lemon = [11, 10, 12]\n",
        "floral = [11, 14, 11]\n",
        "fried_food = [5, 5, 8]\n",
        "none = [8, 7, 6]\n",
        "\n",
        "# Perform one-way ANOVA\n",
        "f_value, p_value = stats.f_oneway(lemon, floral, fried_food, none)\n",
        "\n",
        "print(\"F-value: \", f_value)\n",
        "print(\"P-value: \", p_value)\n"
      ]
    },
    {
      "cell_type": "code",
      "source": [
        "import numpy as np\n",
        "from statsmodels.stats.multicomp import pairwise_tukeyhsd\n",
        "\n",
        "# Combine all groups into a single data array\n",
        "data = np.concatenate([lemon, floral, fried_food, none])\n",
        "\n",
        "# Create a list of group labels\n",
        "labels = ['lemon'] * len(lemon) + ['floral'] * len(floral) + ['fried_food'] * len(fried_food) + ['none'] * len(none)\n",
        "\n",
        "# Perform Tukey's test\n",
        "tukey_results = pairwise_tukeyhsd(data, labels, 0.05)\n",
        "\n",
        "# Print the results\n",
        "print(tukey_results)\n"
      ],
      "metadata": {
        "colab": {
          "base_uri": "https://localhost:8080/"
        },
        "id": "2ZneAis-urZV",
        "outputId": "cf9e1c3f-97d6-48be-8eb1-cb6351b51c56"
      },
      "execution_count": 2,
      "outputs": [
        {
          "output_type": "stream",
          "name": "stdout",
          "text": [
            "    Multiple Comparison of Means - Tukey HSD, FWER=0.05     \n",
            "============================================================\n",
            "  group1     group2   meandiff p-adj   lower   upper  reject\n",
            "------------------------------------------------------------\n",
            "    floral fried_food     -6.0 0.0036 -9.6978 -2.3022   True\n",
            "    floral      lemon     -1.0  0.822 -4.6978  2.6978  False\n",
            "    floral       none     -5.0 0.0108 -8.6978 -1.3022   True\n",
            "fried_food      lemon      5.0 0.0108  1.3022  8.6978   True\n",
            "fried_food       none      1.0  0.822 -2.6978  4.6978  False\n",
            "     lemon       none     -4.0 0.0347 -7.6978 -0.3022   True\n",
            "------------------------------------------------------------\n"
          ]
        }
      ]
    }
  ]
}
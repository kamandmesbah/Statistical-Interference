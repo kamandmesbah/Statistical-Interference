{
  "nbformat": 4,
  "nbformat_minor": 0,
  "metadata": {
    "colab": {
      "provenance": []
    },
    "kernelspec": {
      "name": "python3",
      "display_name": "Python 3"
    },
    "language_info": {
      "name": "python"
    }
  },
  "cells": [
    {
      "cell_type": "markdown",
      "source": [
        "#**Part 1:**"
      ],
      "metadata": {
        "id": "JxwDKDkgl7TS"
      }
    },
    {
      "cell_type": "code",
      "execution_count": 1,
      "metadata": {
        "colab": {
          "base_uri": "https://localhost:8080/",
          "height": 470
        },
        "id": "IrFr5A8klux3",
        "outputId": "6a97a6d7-963d-4ba1-e15a-fea70ea75c73"
      },
      "outputs": [
        {
          "output_type": "display_data",
          "data": {
            "text/plain": [
              "<Figure size 1000x600 with 0 Axes>"
            ]
          },
          "metadata": {}
        },
        {
          "output_type": "display_data",
          "data": {
            "text/plain": [
              "<Figure size 640x480 with 3 Axes>"
            ],
            "image/png": "[encoded data removed]"
          },
          "metadata": {}
        }
      ],
      "source": [
        "import pandas as pd\n",
        "import matplotlib.pyplot as plt\n",
        "from statsmodels.graphics.mosaicplot import mosaic\n",
        "\n",
        "# Load the Titanic dataset\n",
        "titanic_data_path = \"/content/drive/MyDrive/si/titanic.csv\"\n",
        "titanic_data = pd.read_csv(titanic_data_path)\n",
        "\n",
        "# Creating a contingency table for the variables 'sex' and 'survive'\n",
        "sex_survive_table = pd.crosstab(titanic_data['sex'], titanic_data['survive'])\n",
        "\n",
        "# Saving this table as 'sex_survive_table.csv'\n",
        "sex_survive_table_path = '/content/drive/MyDrive/si/sex_survive_table.csv'\n",
        "sex_survive_table.to_csv(sex_survive_table_path)\n",
        "\n",
        "# Creating a mosaic plot to visualize the association between 'sex' and 'survive'\n",
        "plt.figure(figsize=(10, 6))\n",
        "mosaic(titanic_data, ['sex', 'survive'], title='Mosaic Plot of Sex and Survival on the Titanic')\n",
        "plt.show()\n"
      ]
    },
    {
      "cell_type": "code",
      "source": [
        "# Displaying the contingency table for 'sex' and 'survive' variables\n",
        "sex_survive_table\n"
      ],
      "metadata": {
        "colab": {
          "base_uri": "https://localhost:8080/",
          "height": 143
        },
        "id": "pHB5k8aDnu-a",
        "outputId": "977ddaec-9aaa-4c29-860e-b39615e74bcb"
      },
      "execution_count": 2,
      "outputs": [
        {
          "output_type": "execute_result",
          "data": {
            "text/plain": [
              "survive   no  yes\n",
              "sex              \n",
              "female   156  307\n",
              "male     708  142"
            ],
            "text/html": [
              "\n",
              "  <div id=\"df-974a6ed5-70d5-4f40-9abb-5ca7e3fa4b92\" class=\"colab-df-container\">\n",
              "    <div>\n",
              "<style scoped>\n",
              "    .dataframe tbody tr th:only-of-type {\n",
              "        vertical-align: middle;\n",
              "    }\n",
              "\n",
              "    .dataframe tbody tr th {\n",
              "        vertical-align: top;\n",
              "    }\n",
              "\n",
              "    .dataframe thead th {\n",
              "        text-align: right;\n",
              "    }\n",
              "</style>\n",
              "<table border=\"1\" class=\"dataframe\">\n",
              "  <thead>\n",
              "    <tr style=\"text-align: right;\">\n",
              "      <th>survive</th>\n",
              "      <th>no</th>\n",
              "      <th>yes</th>\n",
              "    </tr>\n",
              "    <tr>\n",
              "      <th>sex</th>\n",
              "      <th></th>\n",
              "      <th></th>\n",
              "    </tr>\n",
              "  </thead>\n",
              "  <tbody>\n",
              "    <tr>\n",
              "      <th>female</th>\n",
              "      <td>156</td>\n",
              "      <td>307</td>\n",
              "    </tr>\n",
              "    <tr>\n",
              "      <th>male</th>\n",
              "      <td>708</td>\n",
              "      <td>142</td>\n",
              "    </tr>\n",
              "  </tbody>\n",
              "</table>\n",
              "</div>\n",
              "    <div class=\"colab-df-buttons\">\n",
              "\n",
              "  <div class=\"colab-df-container\">\n",
              "    <button class=\"colab-df-convert\" onclick=\"convertToInteractive('df-974a6ed5-70d5-4f40-9abb-5ca7e3fa4b92')\"\n",
              "            title=\"Convert this dataframe to an interactive table.\"\n",
              "            style=\"display:none;\">\n",
              "\n",
              "  <svg xmlns=\"http://www.w3.org/2000/svg\" height=\"24px\" viewBox=\"0 -960 960 960\">\n",
              "    <path d=\"M120-120v-720h720v720H120Zm60-500h600v-160H180v160Zm220 220h160v-160H400v160Zm0 220h160v-160H400v160ZM180-400h160v-160H180v160Zm440 0h160v-160H620v160ZM180-180h160v-160H180v160Zm440 0h160v-160H620v160Z\"/>\n",
              "  </svg>\n",
              "    </button>\n",
              "\n",
              "  <style>\n",
              "    .colab-df-container {\n",
              "      display:flex;\n",
              "      gap: 12px;\n",
              "    }\n",
              "\n",
              "    .colab-df-convert {\n",
              "      background-color: #E8F0FE;\n",
              "      border: none;\n",
              "      border-radius: 50%;\n",
              "      cursor: pointer;\n",
              "      display: none;\n",
              "      fill: #1967D2;\n",
              "      height: 32px;\n",
              "      padding: 0 0 0 0;\n",
              "      width: 32px;\n",
              "    }\n",
              "\n",
              "    .colab-df-convert:hover {\n",
              "      background-color: #E2EBFA;\n",
              "      box-shadow: 0px 1px 2px rgba(60, 64, 67, 0.3), 0px 1px 3px 1px rgba(60, 64, 67, 0.15);\n",
              "      fill: #174EA6;\n",
              "    }\n",
              "\n",
              "    .colab-df-buttons div {\n",
              "      margin-bottom: 4px;\n",
              "    }\n",
              "\n",
              "    [theme=dark] .colab-df-convert {\n",
              "      background-color: #3B4455;\n",
              "      fill: #D2E3FC;\n",
              "    }\n",
              "\n",
              "    [theme=dark] .colab-df-convert:hover {\n",
              "      background-color: #434B5C;\n",
              "      box-shadow: 0px 1px 3px 1px rgba(0, 0, 0, 0.15);\n",
              "      filter: drop-shadow(0px 1px 2px rgba(0, 0, 0, 0.3));\n",
              "      fill: #FFFFFF;\n",
              "    }\n",
              "  </style>\n",
              "\n",
              "    <script>\n",
              "      const buttonEl =\n",
              "        document.querySelector('#df-974a6ed5-70d5-4f40-9abb-5ca7e3fa4b92 button.colab-df-convert');\n",
              "      buttonEl.style.display =\n",
              "        google.colab.kernel.accessAllowed ? 'block' : 'none';\n",
              "\n",
              "      async function convertToInteractive(key) {\n",
              "        const element = document.querySelector('#df-974a6ed5-70d5-4f40-9abb-5ca7e3fa4b92');\n",
              "        const dataTable =\n",
              "          await google.colab.kernel.invokeFunction('convertToInteractive',\n",
              "                                                    [key], {});\n",
              "        if (!dataTable) return;\n",
              "\n",
              "        const docLinkHtml = 'Like what you see? Visit the ' +\n",
              "          '<a target=\"_blank\" href=https://colab.research.google.com/notebooks/data_table.ipynb>data table notebook</a>'\n",
              "          + ' to learn more about interactive tables.';\n",
              "        element.innerHTML = '';\n",
              "        dataTable['output_type'] = 'display_data';\n",
              "        await google.colab.output.renderOutput(dataTable, element);\n",
              "        const docLink = document.createElement('div');\n",
              "        docLink.innerHTML = docLinkHtml;\n",
              "        element.appendChild(docLink);\n",
              "      }\n",
              "    </script>\n",
              "  </div>\n",
              "\n",
              "\n",
              "<div id=\"df-ddae2561-90a6-4f5f-b9b5-53583b9a69b0\">\n",
              "  <button class=\"colab-df-quickchart\" onclick=\"quickchart('df-ddae2561-90a6-4f5f-b9b5-53583b9a69b0')\"\n",
              "            title=\"Suggest charts\"\n",
              "            style=\"display:none;\">\n",
              "\n",
              "<svg xmlns=\"http://www.w3.org/2000/svg\" height=\"24px\"viewBox=\"0 0 24 24\"\n",
              "     width=\"24px\">\n",
              "    <g>\n",
              "        <path d=\"M19 3H5c-1.1 0-2 .9-2 2v14c0 1.1.9 2 2 2h14c1.1 0 2-.9 2-2V5c0-1.1-.9-2-2-2zM9 17H7v-7h2v7zm4 0h-2V7h2v10zm4 0h-2v-4h2v4z\"/>\n",
              "    </g>\n",
              "</svg>\n",
              "  </button>\n",
              "\n",
              "<style>\n",
              "  .colab-df-quickchart {\n",
              "      --bg-color: #E8F0FE;\n",
              "      --fill-color: #1967D2;\n",
              "      --hover-bg-color: #E2EBFA;\n",
              "      --hover-fill-color: #174EA6;\n",
              "      --disabled-fill-color: #AAA;\n",
              "      --disabled-bg-color: #DDD;\n",
              "  }\n",
              "\n",
              "  [theme=dark] .colab-df-quickchart {\n",
              "      --bg-color: #3B4455;\n",
              "      --fill-color: #D2E3FC;\n",
              "      --hover-bg-color: #434B5C;\n",
              "      --hover-fill-color: #FFFFFF;\n",
              "      --disabled-bg-color: #3B4455;\n",
              "      --disabled-fill-color: #666;\n",
              "  }\n",
              "\n",
              "  .colab-df-quickchart {\n",
              "    background-color: var(--bg-color);\n",
              "    border: none;\n",
              "    border-radius: 50%;\n",
              "    cursor: pointer;\n",
              "    display: none;\n",
              "    fill: var(--fill-color);\n",
              "    height: 32px;\n",
              "    padding: 0;\n",
              "    width: 32px;\n",
              "  }\n",
              "\n",
              "  .colab-df-quickchart:hover {\n",
              "    background-color: var(--hover-bg-color);\n",
              "    box-shadow: 0 1px 2px rgba(60, 64, 67, 0.3), 0 1px 3px 1px rgba(60, 64, 67, 0.15);\n",
              "    fill: var(--button-hover-fill-color);\n",
              "  }\n",
              "\n",
              "  .colab-df-quickchart-complete:disabled,\n",
              "  .colab-df-quickchart-complete:disabled:hover {\n",
              "    background-color: var(--disabled-bg-color);\n",
              "    fill: var(--disabled-fill-color);\n",
              "    box-shadow: none;\n",
              "  }\n",
              "\n",
              "  .colab-df-spinner {\n",
              "    border: 2px solid var(--fill-color);\n",
              "    border-color: transparent;\n",
              "    border-bottom-color: var(--fill-color);\n",
              "    animation:\n",
              "      spin 1s steps(1) infinite;\n",
              "  }\n",
              "\n",
              "  @keyframes spin {\n",
              "    0% {\n",
              "      border-color: transparent;\n",
              "      border-bottom-color: var(--fill-color);\n",
              "      border-left-color: var(--fill-color);\n",
              "    }\n",
              "    20% {\n",
              "      border-color: transparent;\n",
              "      border-left-color: var(--fill-color);\n",
              "      border-top-color: var(--fill-color);\n",
              "    }\n",
              "    30% {\n",
              "      border-color: transparent;\n",
              "      border-left-color: var(--fill-color);\n",
              "      border-top-color: var(--fill-color);\n",
              "      border-right-color: var(--fill-color);\n",
              "    }\n",
              "    40% {\n",
              "      border-color: transparent;\n",
              "      border-right-color: var(--fill-color);\n",
              "      border-top-color: var(--fill-color);\n",
              "    }\n",
              "    60% {\n",
              "      border-color: transparent;\n",
              "      border-right-color: var(--fill-color);\n",
              "    }\n",
              "    80% {\n",
              "      border-color: transparent;\n",
              "      border-right-color: var(--fill-color);\n",
              "      border-bottom-color: var(--fill-color);\n",
              "    }\n",
              "    90% {\n",
              "      border-color: transparent;\n",
              "      border-bottom-color: var(--fill-color);\n",
              "    }\n",
              "  }\n",
              "</style>\n",
              "\n",
              "  <script>\n",
              "    async function quickchart(key) {\n",
              "      const quickchartButtonEl =\n",
              "        document.querySelector('#' + key + ' button');\n",
              "      quickchartButtonEl.disabled = true;  // To prevent multiple clicks.\n",
              "      quickchartButtonEl.classList.add('colab-df-spinner');\n",
              "      try {\n",
              "        const charts = await google.colab.kernel.invokeFunction(\n",
              "            'suggestCharts', [key], {});\n",
              "      } catch (error) {\n",
              "        console.error('Error during call to suggestCharts:', error);\n",
              "      }\n",
              "      quickchartButtonEl.classList.remove('colab-df-spinner');\n",
              "      quickchartButtonEl.classList.add('colab-df-quickchart-complete');\n",
              "    }\n",
              "    (() => {\n",
              "      let quickchartButtonEl =\n",
              "        document.querySelector('#df-ddae2561-90a6-4f5f-b9b5-53583b9a69b0 button');\n",
              "      quickchartButtonEl.style.display =\n",
              "        google.colab.kernel.accessAllowed ? 'block' : 'none';\n",
              "    })();\n",
              "  </script>\n",
              "</div>\n",
              "\n",
              "  <div id=\"id_2bfb91f8-5636-4ee8-9ee1-e51fac39c70d\">\n",
              "    <style>\n",
              "      .colab-df-generate {\n",
              "        background-color: #E8F0FE;\n",
              "        border: none;\n",
              "        border-radius: 50%;\n",
              "        cursor: pointer;\n",
              "        display: none;\n",
              "        fill: #1967D2;\n",
              "        height: 32px;\n",
              "        padding: 0 0 0 0;\n",
              "        width: 32px;\n",
              "      }\n",
              "\n",
              "      .colab-df-generate:hover {\n",
              "        background-color: #E2EBFA;\n",
              "        box-shadow: 0px 1px 2px rgba(60, 64, 67, 0.3), 0px 1px 3px 1px rgba(60, 64, 67, 0.15);\n",
              "        fill: #174EA6;\n",
              "      }\n",
              "\n",
              "      [theme=dark] .colab-df-generate {\n",
              "        background-color: #3B4455;\n",
              "        fill: #D2E3FC;\n",
              "      }\n",
              "\n",
              "      [theme=dark] .colab-df-generate:hover {\n",
              "        background-color: #434B5C;\n",
              "        box-shadow: 0px 1px 3px 1px rgba(0, 0, 0, 0.15);\n",
              "        filter: drop-shadow(0px 1px 2px rgba(0, 0, 0, 0.3));\n",
              "        fill: #FFFFFF;\n",
              "      }\n",
              "    </style>\n",
              "    <button class=\"colab-df-generate\" onclick=\"generateWithVariable('sex_survive_table')\"\n",
              "            title=\"Generate code using this dataframe.\"\n",
              "            style=\"display:none;\">\n",
              "\n",
              "  <svg xmlns=\"http://www.w3.org/2000/svg\" height=\"24px\"viewBox=\"0 0 24 24\"\n",
              "       width=\"24px\">\n",
              "    <path d=\"M7,19H8.4L18.45,9,17,7.55,7,17.6ZM5,21V16.75L18.45,3.32a2,2,0,0,1,2.83,0l1.4,1.43a1.91,1.91,0,0,1,.58,1.4,1.91,1.91,0,0,1-.58,1.4L9.25,21ZM18.45,9,17,7.55Zm-12,3A5.31,5.31,0,0,0,4.9,8.1,5.31,5.31,0,0,0,1,6.5,5.31,5.31,0,0,0,4.9,4.9,5.31,5.31,0,0,0,6.5,1,5.31,5.31,0,0,0,8.1,4.9,5.31,5.31,0,0,0,12,6.5,5.46,5.46,0,0,0,6.5,12Z\"/>\n",
              "  </svg>\n",
              "    </button>\n",
              "    <script>\n",
              "      (() => {\n",
              "      const buttonEl =\n",
              "        document.querySelector('#id_2bfb91f8-5636-4ee8-9ee1-e51fac39c70d button.colab-df-generate');\n",
              "      buttonEl.style.display =\n",
              "        google.colab.kernel.accessAllowed ? 'block' : 'none';\n",
              "\n",
              "      buttonEl.onclick = () => {\n",
              "        google.colab.notebook.generateWithVariable('sex_survive_table');\n",
              "      }\n",
              "      })();\n",
              "    </script>\n",
              "  </div>\n",
              "\n",
              "    </div>\n",
              "  </div>\n"
            ]
          },
          "metadata": {},
          "execution_count": 2
        }
      ]
    },
    {
      "cell_type": "code",
      "source": [
        "\n",
        "sex_survive_table.plot(kind='bar')"
      ],
      "metadata": {
        "colab": {
          "base_uri": "https://localhost:8080/",
          "height": 501
        },
        "id": "1Ti3MY1GnzlQ",
        "outputId": "9c8770ed-4335-465b-d3f9-1fafa1b17777"
      },
      "execution_count": 3,
      "outputs": [
        {
          "output_type": "execute_result",
          "data": {
            "text/plain": [
              "<Axes: xlabel='sex'>"
            ]
          },
          "metadata": {},
          "execution_count": 3
        },
        {
          "output_type": "display_data",
          "data": {
            "text/plain": [
              "<Figure size 640x480 with 1 Axes>"
            ],
            "image/png": "[encoded data removed]"
          },
          "metadata": {}
        }
      ]
    },
    {
      "cell_type": "code",
      "source": [],
      "metadata": {
        "id": "KDJ5ZUMVoPSG"
      },
      "execution_count": null,
      "outputs": []
    },
    {
      "cell_type": "code",
      "source": [
        "# Generating a mosaic plot with specified colors and axis labels for better interpretation\n",
        "plt.figure(figsize=(10, 6))\n",
        "mosaic(titanic_data, ['sex', 'survive'],\n",
        "       title='Mosaic Plot of Gender and Survival on the Titanic',\n",
        "       gap=0.02,\n",
        "       properties=lambda key: {'color': 'skyblue' if 'yes' in key else 'salmon'})\n",
        "plt.xlabel('Gender')\n",
        "plt.ylabel('Survival Status')\n",
        "plt.show()\n"
      ],
      "metadata": {
        "colab": {
          "base_uri": "https://localhost:8080/",
          "height": 487
        },
        "id": "XELMtmVnsUQO",
        "outputId": "9139a2c6-f1b5-42a6-badb-17853060f67a"
      },
      "execution_count": 4,
      "outputs": [
        {
          "output_type": "display_data",
          "data": {
            "text/plain": [
              "<Figure size 1000x600 with 0 Axes>"
            ]
          },
          "metadata": {}
        },
        {
          "output_type": "display_data",
          "data": {
            "text/plain": [
              "<Figure size 640x480 with 3 Axes>"
            ],
            "image/png": "[encoded data removed]"
          },
          "metadata": {}
        }
      ]
    },
    {
      "cell_type": "markdown",
      "source": [
        "The plot uses two colors: sky blue for those who survived (labeled 'yes') and salmon for those who did not survive (labeled 'no').\n",
        "The horizontal axis represents gender, while the vertical axis represents survival status.\n",
        "This visuali"
      ],
      "metadata": {
        "id": "BTRqhwRquosV"
      }
    },
    {
      "cell_type": "markdown",
      "source": [
        "# **Part 2:**"
      ],
      "metadata": {
        "id": "UgD4__TduqwJ"
      }
    },
    {
      "cell_type": "markdown",
      "source": [
        "a)"
      ],
      "metadata": {
        "id": "cFtN8qvHwBLj"
      }
    },
    {
      "cell_type": "code",
      "source": [
        "from scipy.stats import chi2_contingency\n",
        "\n",
        "# Conducting the Chi-square test on the sex_survive_table contingency table\n",
        "chi2, p, dof, expected = chi2_contingency(sex_survive_table)\n",
        "\n",
        "chi2_test_results = {\n",
        "    \"Chi-Square Statistic\": chi2,\n",
        "    \"p-value\": p,\n",
        "    \"Degrees of Freedom\": dof,\n",
        "    \"Expected Frequencies\": expected\n",
        "}\n",
        "\n",
        "chi2_test_results\n",
        "\n"
      ],
      "metadata": {
        "colab": {
          "base_uri": "https://localhost:8080/"
        },
        "id": "0sXaw3NquqR4",
        "outputId": "3f06bd2a-2d0d-49ae-fe89-6400780fc7f2"
      },
      "execution_count": 5,
      "outputs": [
        {
          "output_type": "execute_result",
          "data": {
            "text/plain": [
              "{'Chi-Square Statistic': 325.5037787069806,\n",
              " 'p-value': 9.164113332735093e-73,\n",
              " 'Degrees of Freedom': 1,\n",
              " 'Expected Frequencies': array([[304.67022087, 158.32977913],\n",
              "        [559.32977913, 290.67022087]])}"
            ]
          },
          "metadata": {},
          "execution_count": 5
        }
      ]
    },
    {
      "cell_type": "markdown",
      "source": [
        "b)\n",
        "To properly conduct a Chi-square (χ²) test, certain assumptions must be met:\n",
        "\n",
        "1. **Categorical Variables**: Both variables should be categorical (nominal or ordinal). In this case, 'sex' (male or female) and 'survive' (yes or no) are both categorical.\n",
        "\n",
        "2. **Independence of Observations**: Each individual in the dataset should contribute to only one cell in the contingency table. In other words, the observations should be independent. This condition is typically met in observational studies like the Titanic dataset, assuming each row represents a different individual.\n",
        "\n",
        "3. **Sample Size**: A common rule of thumb is that all expected frequencies should be at least 5. This is to ensure that the Chi-square approximation is valid.\n",
        "\n",
        "Let's check the expected frequencies from the Chi-square test to see if they all are 5 or greater:\n",
        "\n",
        "- Expected frequencies for Females: 304.67 (not survived), 158.33 (survived)\n",
        "- Expected frequencies for Males: 559.33 (not survived), 290.67 (survived)\n",
        "\n",
        "Since all expected frequencies are well above 5, this assumption is met.\n",
        "\n",
        "4. **Random Sampling**: The data should be a random sample from the population. This is more about how the data was collected rather than something we can infer from the data itself. The Titanic dataset is a historical record, so this assumption is typically considered met in the context of analyzing such data.\n",
        "\n",
        "Given this information, it appears that the assumptions necessary for the Chi-square test have been met in this case."
      ],
      "metadata": {
        "id": "0XfN5uSQvlyN"
      }
    },
    {
      "cell_type": "markdown",
      "source": [
        "c)"
      ],
      "metadata": {
        "id": "Vq6wX2wTwDmd"
      }
    },
    {
      "cell_type": "code",
      "source": [
        "from scipy.stats import fisher_exact\n",
        "\n",
        "# Conducting Fisher's exact test on the sex_survive_table contingency table\n",
        "odds_ratio, p_value = fisher_exact(sex_survive_table)\n",
        "\n",
        "fisher_test_results = {\n",
        "    \"Odds Ratio\": odds_ratio,\n",
        "    \"p-value\": p_value\n",
        "}\n",
        "\n",
        "fisher_test_results\n",
        "\n"
      ],
      "metadata": {
        "colab": {
          "base_uri": "https://localhost:8080/"
        },
        "id": "6fcP2Pr-vma7",
        "outputId": "7b613492-e2f2-471a-e1ab-8eca89046080"
      },
      "execution_count": 6,
      "outputs": [
        {
          "output_type": "execute_result",
          "data": {
            "text/plain": [
              "{'Odds Ratio': 0.10191575111798155, 'p-value': 5.187445473452701e-73}"
            ]
          },
          "metadata": {},
          "execution_count": 6
        }
      ]
    },
    {
      "cell_type": "markdown",
      "source": [
        "The results of Fisher's Exact Test conducted on the contingency table for gender and survival status are as follows:\n",
        "\n",
        "- **Odds Ratio**: Approximately 0.102\n",
        "- **p-value**: Approximately 5.19e-73\n",
        "\n",
        "These results indicate a very strong association between gender and survival on the Titanic. The extremely low p-value suggests that the observed association is highly unlikely to have occurred by chance. The odds ratio less than 1 implies that the odds of survival were significantly lower for males compared to females."
      ],
      "metadata": {
        "id": "7w4-clTkweuO"
      }
    },
    {
      "cell_type": "markdown",
      "source": [
        "d)"
      ],
      "metadata": {
        "id": "bf5qBKKqwert"
      }
    },
    {
      "cell_type": "markdown",
      "source": [
        "I implement code before, The results of the Chi-square (χ²) test on the contingency table for gender and survival status in the Titanic dataset were as follows:\n",
        "\n",
        "1. **Chi-Square Statistic (χ² value)**: 325.504\n",
        "   - This value is a measure of how much the observed frequencies (actual data) deviate from the expected frequencies (assuming no association between the variables). A higher χ² value indicates a greater deviation from the null hypothesis (which states there is no association between the variables).\n",
        "\n",
        "2. **Degrees of Freedom (df)**: 1\n",
        "   - Degrees of freedom in a Chi-square test generally equal (Number of rows - 1) * (Number of columns - 1). For a 2x2 table, as in this case, the degrees of freedom is 1. This parameter is used in determining the statistical significance.\n",
        "\n",
        "3. **p-value**: Approximately 9.16e-73\n",
        "   - The p-value tells us the probability of observing a χ² statistic as extreme as or more extreme than the observed value under the null hypothesis. A low p-value indicates that such an extreme observed outcome would be very unlikely under the null hypothesis.\n",
        "   - In this case, the p-value is extremely low, far below any standard threshold for statistical significance (like 0.05 or 0.01). This strongly suggests that the observed association between gender and survival is not due to random chance.\n",
        "\n",
        "### Analysis and Interpretation:\n",
        "\n",
        "- The high χ² statistic combined with the extremely low p-value strongly indicates that there is a significant association between gender and survival on the Titanic.\n",
        "- The results suggest that gender played a notable role in the likelihood of survival, with the specific contingency table revealing that a higher proportion of females survived compared to males.\n",
        "- This significant result is consistent with historical accounts suggesting that women were given priority for lifeboats on the Titanic.\n",
        "- Since the degrees of freedom is 1, this adds confidence to the interpretation of the χ² statistic, as the test is adequately powered to detect an association in a 2x2 contingency table.\n",
        "\n",
        "In conclusion, the Chi-square test provides strong evidence for a significant association between gender and survival on the Titanic."
      ],
      "metadata": {
        "id": "HtCbOZ1TxpfJ"
      }
    },
    {
      "cell_type": "markdown",
      "source": [
        "e)"
      ],
      "metadata": {
        "id": "cjA6ycicyW5R"
      }
    },
    {
      "cell_type": "markdown",
      "source": [
        "The results of Fisher's Exact Test conducted on the contingency table for gender and survival status in the Titanic dataset were:\n",
        "\n",
        "1. **Odds Ratio**: Approximately 0.102\n",
        "   - The odds ratio is a measure of association between two variables. In this context, it represents the odds of survival for one gender relative to the other. An odds ratio less than 1, as seen here, suggests that the odds of survival were significantly lower for males compared to females.\n",
        "\n",
        "2. **p-value**: Approximately 5.19e-73\n",
        "   - The p-value in Fisher's Exact Test provides the probability of observing the data, or something more extreme, under the null hypothesis (which assumes no association between the variables).\n",
        "   - A very low p-value, such as the one observed here, indicates that the likelihood of seeing such an extreme result due to random chance is extremely low. This strongly suggests that the observed association between gender and survival is statistically significant and not a result of random variation.\n",
        "\n",
        "### Analysis and Interpretation:\n",
        "\n",
        "- The very small p-value confirms that the association between gender and survival on the Titanic is statistically significant.\n",
        "- The test results align with historical accounts and the results from the Chi-square test, reinforcing the conclusion that gender was a significant factor in survival rates on the Titanic.\n",
        "- The Fisher's Exact Test is particularly useful here as it provides an exact p-value, which is especially important in cases with small sample sizes or when the assumptions for the Chi-square test are not fully met. However, in this case, both tests yield consistent results.\n",
        "\n",
        "In summary, Fisher's Exact Test corroborates the findings of the Chi-square test, providing strong evidence of a significant association between gender and survival on the Titanic, without relying on approximations."
      ],
      "metadata": {
        "id": "nWsafVPEyZMg"
      }
    }
  ]
}
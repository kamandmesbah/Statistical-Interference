{
  "nbformat": 4,
  "nbformat_minor": 0,
  "metadata": {
    "colab": {
      "provenance": []
    },
    "kernelspec": {
      "name": "python3",
      "display_name": "Python 3"
    },
    "language_info": {
      "name": "python"
    }
  },
  "cells": [
    {
      "cell_type": "markdown",
      "source": [
        "# **Part one:**\n",
        "Histogram"
      ],
      "metadata": {
        "id": "wxb-amBV76io"
      }
    },
    {
      "cell_type": "code",
      "execution_count": 1,
      "metadata": {
        "colab": {
          "base_uri": "https://localhost:8080/",
          "height": 564
        },
        "id": "eR5c9QOG6Gp-",
        "outputId": "3fe7b0fc-3488-454c-98ca-40709ac119b1"
      },
      "outputs": [
        {
          "output_type": "display_data",
          "data": {
            "text/plain": [
              "<Figure size 1200x600 with 1 Axes>"
            ],
            "image/png": "[encoded data removed]"
          },
          "metadata": {}
        }
      ],
      "source": [
        "import matplotlib.pyplot as plt\n",
        "\n",
        "# Redefining the age data for men and women\n",
        "men_ages = [\n",
        "    52, 18, 27, 12, 24, 17, 68, 25, 12, 9, 51, 44, 42, 34, 44, 15, 21, 66, 61, 32, 31, 20, 6, 13, 34, 38, 45, 17,\n",
        "            16, 15, 36, 21, 29, 21, 29, 9, 33, 15, 37, 27, 31, 15, 57, 37, 27, 31, 38, 27, 60, 23]\n",
        "women_ages = [36, 49, 20, 31, 51, 31, 15, 16, 39, 70, 52, 16, 39, 34, 18, 34, 30, 18, 26, 18, 25, 16, 39, 49, 22, 37, 39,\n",
        "              21, 16, 63, 45, 43, 17, 28, 29, 23, 42, 23, 28, 55, 41, 18, 23, 8, 13, 26, 13, 27, 28, 18]\n",
        "\n",
        "# Plotting histograms\n",
        "plt.figure(figsize=(12, 6))\n",
        "plt.hist(men_ages, alpha=0.5, label='Men', bins=15, color='blue')\n",
        "plt.hist(women_ages, alpha=0.5, label='Women', bins=15, color='pink')\n",
        "plt.title('Age Distribution of Male and Female Fans')\n",
        "plt.xlabel('Age')\n",
        "plt.ylabel('Frequency')\n",
        "plt.legend()\n",
        "plt.show()\n"
      ]
    },
    {
      "cell_type": "markdown",
      "source": [
        "## **part 2:**\n",
        "To determine whether the age distributions for men and women are normally distributed, we can use statistical tests for normality. Common tests for this purpose include the Shapiro-Wilk test and the D'Agostino's K-squared test. These tests will provide us with a p-value to decide whether the distribution deviates significantly from a normal distribution.\n",
        "\n",
        "A p-value less than a typical alpha level of 0.05 suggests that the distribution is not normal."
      ],
      "metadata": {
        "id": "Txs8ewN07wlC"
      }
    },
    {
      "cell_type": "code",
      "source": [
        "from scipy.stats import shapiro\n",
        "\n",
        "# Shapiro-Wilk Test for Men's Ages\n",
        "stat_men, p_men = shapiro(men_ages)\n",
        "print(\"Shapiro-Wilk Test for Men's Ages:\")\n",
        "print(f\"Statistic: {stat_men}, p-value: {p_men}\")\n",
        "if p_men > 0.05:\n",
        "    print(\"Men's ages appear to be normally distributed.\")\n",
        "else:\n",
        "    print(\"Men's ages do not appear to be normally distributed.\")\n",
        "\n",
        "# Shapiro-Wilk Test for Women's Ages\n",
        "stat_women, p_women = shapiro(women_ages)\n",
        "print(\"\\nShapiro-Wilk Test for Women's Ages:\")\n",
        "print(f\"Statistic: {stat_women}, p-value: {p_women}\")\n",
        "if p_women > 0.05:\n",
        "    print(\"Women's ages appear to be normally distributed.\")\n",
        "else:\n",
        "    print(\"Women's ages do not appear to be normally distributed.\")\n"
      ],
      "metadata": {
        "colab": {
          "base_uri": "https://localhost:8080/"
        },
        "id": "djOWE64s7Ljh",
        "outputId": "eb6776a2-c9e0-479b-ac57-643d94abd8eb"
      },
      "execution_count": 3,
      "outputs": [
        {
          "output_type": "stream",
          "name": "stdout",
          "text": [
            "Shapiro-Wilk Test for Men's Ages:\n",
            "Statistic: 0.9460382461547852, p-value: 0.023510854691267014\n",
            "Men's ages do not appear to be normally distributed.\n",
            "\n",
            "Shapiro-Wilk Test for Women's Ages:\n",
            "Statistic: 0.9431541562080383, p-value: 0.01799035631120205\n",
            "Women's ages do not appear to be normally distributed.\n"
          ]
        }
      ]
    },
    {
      "cell_type": "markdown",
      "source": [
        "For the Shapiro-Wilk test, both men's and women's age distributions have p-values less than 0.05, indicating that the data does not follow a normal distribution."
      ],
      "metadata": {
        "id": "rmQNnrWf-DMh"
      }
    },
    {
      "cell_type": "markdown",
      "source": [
        "# **Part 3:**\n",
        "can use parametric tests, such as the t-test for **independent samples** , for comparing the means of the age distributions between men and women. However, parametric tests have certain assumptions that need to be met:\n",
        "\n",
        "1. **Normality:** The data in each group should be approximately normally distributed.\n",
        "\n",
        "Our Shapiro-Wilk test results suggested that the data might not be normally distributed.\n"
      ],
      "metadata": {
        "id": "1eKKi5lr8YdT"
      }
    },
    {
      "cell_type": "markdown",
      "source": [
        "# **Part 4:**\n",
        "Transforming data to approximate a normal distribution can be done using various methods, such as logarithmic, square root, or Box-Cox transformations. These transformations can be particularly effective when dealing with skewed data.\n",
        "\n",
        "Given the age data for men and women, we can try a transformation and then recheck the distribution using the Shapiro-Wilk test. A common choice for positive data like ages is the logarithmic transformation, but since our data includes ages as low as 6 and 8, a Box-Cox transformation might be more appropriate as it can handle a broader range of values."
      ],
      "metadata": {
        "id": "yFKvzjVjTNw3"
      }
    },
    {
      "cell_type": "code",
      "source": [
        "import matplotlib.pyplot as plt\n",
        "from scipy.stats import shapiro, boxcox\n",
        "\n",
        "# Applying Box-Cox transformation (adding 1 to handle zero or negative values which are not present in our data)\n",
        "men_ages_transformed, _ = boxcox(men_ages)\n",
        "women_ages_transformed, _ = boxcox(women_ages)\n",
        "\n",
        "# Rechecking for normality using the Shapiro-Wilk test\n",
        "shapiro_test_men_transformed = shapiro(men_ages_transformed)\n",
        "shapiro_test_women_transformed = shapiro(women_ages_transformed)\n",
        "\n",
        "shapiro_test_men_transformed, shapiro_test_women_transformed\n"
      ],
      "metadata": {
        "colab": {
          "base_uri": "https://localhost:8080/"
        },
        "id": "0Ajy3tKo-jxS",
        "outputId": "79826cfa-ccae-420d-aba6-218fae047a3d"
      },
      "execution_count": 3,
      "outputs": [
        {
          "output_type": "execute_result",
          "data": {
            "text/plain": [
              "(ShapiroResult(statistic=0.9866886734962463, pvalue=0.8410663604736328),\n",
              " ShapiroResult(statistic=0.9852827191352844, pvalue=0.7836925983428955))"
            ]
          },
          "metadata": {},
          "execution_count": 3
        }
      ]
    },
    {
      "cell_type": "markdown",
      "source": [
        "In both cases, the p-values are significantly higher than 0.05, suggesting that the transformed data do not significantly deviate from a normal distribution.\n"
      ],
      "metadata": {
        "id": "1byq7ZFcWXMl"
      }
    },
    {
      "cell_type": "markdown",
      "source": [
        "# **Part 5:**\n",
        "Given that the parametric requirements, particularly normality and homogeneity of variances, are met (after the Box-Cox transformation for normality and based on Levene's test for equal variances), we can proceed with a parametric test to compare the ages of men and women. The appropriate test in this case is the independent two-sample t-test."
      ],
      "metadata": {
        "id": "thykbAkpW-NZ"
      }
    },
    {
      "cell_type": "code",
      "source": [
        "# Importing the t-test function\n",
        "from scipy.stats import ttest_ind\n",
        "\n",
        "# Performing the two-sample t-test\n",
        "t_test_result_transformed = ttest_ind(men_ages_transformed, women_ages_transformed)\n",
        "t_test_result_transformed\n"
      ],
      "metadata": {
        "colab": {
          "base_uri": "https://localhost:8080/"
        },
        "id": "-2U8ZymPW9_J",
        "outputId": "55cc92e9-04a6-4f85-b2ce-1fc9b04c36e1"
      },
      "execution_count": 4,
      "outputs": [
        {
          "output_type": "execute_result",
          "data": {
            "text/plain": [
              "TtestResult(statistic=6.327105981160038, pvalue=7.498449556211095e-09, df=98.0)"
            ]
          },
          "metadata": {},
          "execution_count": 4
        }
      ]
    },
    {
      "cell_type": "markdown",
      "source": [
        "The p-value is very small (significantly lower than the standard alpha level of 0.05), which suggests that we can reject the null hypothesis. This implies that there is a statistically significant difference in the mean ages of male and female fans of the band after the data has been transformed to meet the assumptions of normality.\n",
        "\n",
        "In summary, based on this analysis, there is strong evidence to suggest that the age distribution of male fans differs significantly from that of female fans for this particular band.\n"
      ],
      "metadata": {
        "id": "ly3y7aKjXV3_"
      }
    },
    {
      "cell_type": "markdown",
      "source": [
        "# **Part 6:**\n",
        "For a non-parametric comparison of the original age data, we can use the Mann-Whitney U test. This test does not assume normality of the data and is used to test whether two independent samples originate from the same distribution.\n",
        "\n",
        "\n",
        "\n"
      ],
      "metadata": {
        "id": "ekmW4ZubYT4x"
      }
    },
    {
      "cell_type": "code",
      "source": [
        "from scipy.stats import mannwhitneyu\n",
        "\n",
        "# Conducting the Mann-Whitney U test on the original data\n",
        "mw_test_result = mannwhitneyu(men_ages, women_ages)\n",
        "\n",
        "mw_test_result\n"
      ],
      "metadata": {
        "colab": {
          "base_uri": "https://localhost:8080/"
        },
        "id": "MloFzcdaWW2j",
        "outputId": "45e1fa41-ab81-4dc7-aabd-f012a53f6008"
      },
      "execution_count": 5,
      "outputs": [
        {
          "output_type": "execute_result",
          "data": {
            "text/plain": [
              "MannwhitneyuResult(statistic=1213.0, pvalue=0.801221571030353)"
            ]
          },
          "metadata": {},
          "execution_count": 5
        }
      ]
    },
    {
      "cell_type": "markdown",
      "source": [
        "\n",
        "The result of the Mann-Whitney U test on the original age data for men and women is as follows:\n",
        "\n",
        "- Mann-Whitney U Statistic = 1213.0\n",
        "- P-value = 0.801\n",
        "\n",
        "In this case, the p-value is much larger than 0.05, indicating that there is not enough evidence to reject the null hypothesis.\n",
        "\n",
        "**Comparison with Parametric Test:**\n",
        "- The two-sample t-test on the transformed data yielded a very low p-value, leading to the rejection of the null hypothesis, indicating a significant difference in mean ages.\n",
        "- The Mann-Whitney U test on the original data did not find a significant difference between the groups.\n",
        "\n",
        "**Power of the Tests:**\n",
        "- The two-sample t-test, when its assumptions are met, generally has more power than the Mann-Whitney U test. This means it's more likely to detect a true difference if one exists.\n",
        "- The Mann-Whitney U test is less powerful but more robust to non-normal distributions.\n"
      ],
      "metadata": {
        "id": "k9t01-uTYnfZ"
      }
    },
    {
      "cell_type": "markdown",
      "source": [
        "# **Part 7 :**\n",
        "\n",
        "- The original data was not normally distributed.\n",
        "- After a Box-Cox transformation, the two-sample t-test showed a significant difference between male and female fans' ages.\n",
        "- The Mann-Whitney U test on the original data did not find a significant difference.\n",
        "\n",
        "Given these points, the two-sample t-test is more appropriate if we trust the effectiveness of the Box-Cox transformation in normalizing the data. It's more powerful but relies on the assumption of normality. The Mann-Whitney U test is better for non-normal data but generally less powerful. In this case, the two-sampleThe Mann-Whitney U test seems to be the more suitable choice."
      ],
      "metadata": {
        "id": "G_dKAp_DY28O"
      }
    }
  ]
}
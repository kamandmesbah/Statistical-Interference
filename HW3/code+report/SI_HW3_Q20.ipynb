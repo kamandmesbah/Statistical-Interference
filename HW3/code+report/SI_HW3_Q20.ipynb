{
  "nbformat": 4,
  "nbformat_minor": 0,
  "metadata": {
    "colab": {
      "provenance": []
    },
    "kernelspec": {
      "name": "python3",
      "display_name": "Python 3"
    },
    "language_info": {
      "name": "python"
    }
  },
  "cells": [
    {
      "cell_type": "markdown",
      "source": [
        "**Generate a sample of size 50**"
      ],
      "metadata": {
        "id": "bpavpu0w0Gsu"
      }
    },
    {
      "cell_type": "code",
      "execution_count": 1,
      "metadata": {
        "colab": {
          "base_uri": "https://localhost:8080/"
        },
        "id": "bjxiORw0u9Gc",
        "outputId": "d6586acb-a59e-42cb-95db-628c84168e7a"
      },
      "outputs": [
        {
          "output_type": "stream",
          "name": "stdout",
          "text": [
            "[0.32639013 0.548521   0.47743371 0.06600668 0.69391048 0.23620624\n",
            " 0.15194081 0.49702364 0.29394608 0.23189768 0.32366716 0.3313003\n",
            " 0.45065489 0.1258928  0.22821935 0.15790603 0.22010964 0.54186671\n",
            " 0.52402916 0.26790065 0.17656651 0.28144184 0.47250391 0.32701329\n",
            " 0.22890652 0.4750948  0.20285331 0.63297736 0.20911433 0.37908294\n",
            " 0.53460216 0.25122209 0.67486302 0.05883467 0.60140917 0.27193138\n",
            " 0.21720404 0.53587415 0.31692049 0.40582931 0.40016459 0.10446429\n",
            " 0.31498604 0.29226989 0.40439368 0.12928851 0.18910078 0.02369438\n",
            " 0.27737823 0.32011113]\n"
          ]
        }
      ],
      "source": [
        "import numpy as np\n",
        "\n",
        "# parameters for the beta distribution\n",
        "a, b = 2, 5\n",
        "\n",
        "# generate a sample of size 50 from the beta distribution\n",
        "sample = np.random.beta(a, b, 50)\n",
        "\n",
        "# print the generated sample\n",
        "print(sample)\n"
      ]
    },
    {
      "cell_type": "markdown",
      "source": [
        "# Part one:\n"
      ],
      "metadata": {
        "id": "KBt_p_m-0Yn0"
      }
    },
    {
      "cell_type": "markdown",
      "source": [
        "one tailed"
      ],
      "metadata": {
        "id": "NtYnUWNQ2Dwl"
      }
    },
    {
      "cell_type": "code",
      "source": [
        "from scipy import stats\n",
        "import numpy as np\n",
        "\n",
        "# Calculate the median of the sample\n",
        "M = np.median(sample)\n",
        "\n",
        "# H0: median is 0.4, H1: median is greater than 0.4\n",
        "stat, p_value_04 = stats.wilcoxon(sample - 0.4, alternative='greater')\n",
        "\n",
        "print(f\"Median: {M}\")\n",
        "print(f\"P-value for H0: M = 0.4: {p_value_04}\")\n",
        "\n",
        "# Conclusion\n",
        "if p_value_04 < 0.05:\n",
        "    print(\"So we reject H0, suggesting the median is significantly greater than 0.4.\")\n",
        "else:\n",
        "    print(\"So we do not reject H0, suggesting we do not have enough evidence to say the median is greater than 0.4.\")\n"
      ],
      "metadata": {
        "colab": {
          "base_uri": "https://localhost:8080/"
        },
        "id": "iyqiZn5U0BOi",
        "outputId": "b27c7a9f-ea29-4783-d217-9b23803b07e5"
      },
      "execution_count": 3,
      "outputs": [
        {
          "output_type": "stream",
          "name": "stdout",
          "text": [
            "Median: 0.30446605857844916\n",
            "P-value for H0: M = 0.4: 0.9978415479226586\n",
            "So we do not reject H0, suggesting we do not have enough evidence to say the median is greater than 0.4.\n"
          ]
        }
      ]
    },
    {
      "cell_type": "markdown",
      "source": [
        "2 tailed"
      ],
      "metadata": {
        "id": "SAUrH76E2Nso"
      }
    },
    {
      "cell_type": "code",
      "source": [
        "from scipy import stats\n",
        "import numpy as np\n",
        "\n",
        "# Calculate the median of the sample\n",
        "M = np.median(sample)\n",
        "\n",
        "# Perform a one-sample Wilcoxon signed rank test\n",
        "# H0: median is 0.4, H1: median is M =! 0.4\n",
        "stat, p_value_04 = stats.wilcoxon(sample - 0.4, alternative='two-sided')\n",
        "\n",
        "print(f\"Median: {M}\")\n",
        "print(f\"P-value for H0: M = 0.4: {p_value_04}\")\n",
        "\n",
        "# Conclusion\n",
        "if p_value_04 < 0.05:\n",
        "    print(\"So we reject H0, suggesting the median is significantly greater than 0.4.\")\n",
        "else:\n",
        "    print(\"So we do not reject H0, suggesting we do not have enough evidence to say the median is greater than 0.4.\")\n"
      ],
      "metadata": {
        "colab": {
          "base_uri": "https://localhost:8080/"
        },
        "id": "Enr6N83_1vX5",
        "outputId": "d8ac159e-2ac4-4601-d5ac-a50b9fe0899b"
      },
      "execution_count": 4,
      "outputs": [
        {
          "output_type": "stream",
          "name": "stdout",
          "text": [
            "Median: 0.30446605857844916\n",
            "P-value for H0: M = 0.4: 0.004459422606641894\n",
            "So we reject H0, suggesting the median is significantly greater than 0.4.\n"
          ]
        }
      ]
    },
    {
      "cell_type": "markdown",
      "source": [
        "# Part Two:"
      ],
      "metadata": {
        "id": "mjqFSn2A0ci9"
      }
    },
    {
      "cell_type": "markdown",
      "source": [
        "Calculating the power of a test, especially a nonparametric test like the Wilcoxon signed-rank test, can be quite complex and usually isn't straightforward. Power analysis typically requires knowledge of the effect size, variance, sample size, and the significance level of the test.\n",
        "\n",
        "For nonparametric tests like the Wilcoxon signed-rank test, exact power calculations can be difficult because they don't assume a specific distribution of the data (like normality in t-tests). Instead, power can be estimated through simulation methods. Here's a general approach using simulation:\n",
        "\n",
        "Define Parameters: Set the significance level (usually 0.05), the true median under the alternative hypothesis, and the sample size.\n",
        "Simulate Data: Generate many samples (e.g., 10,000) based on the true median and sample size.\n",
        "Apply Test: For each simulated sample, perform the Wilcoxon signed-rank test.\n",
        "Calculate Power: Determine the proportion of tests where the null hypothesis was correctly rejected (p-value < significance level)."
      ],
      "metadata": {
        "id": "0DXfIasg5KC8"
      }
    },
    {
      "cell_type": "code",
      "source": [
        "from scipy.stats import beta, wilcoxon\n",
        "import numpy as np\n",
        "\n",
        "# Parameters\n",
        "alpha = 0.05  # Significance level\n",
        "true_median = 0.5  # Assuming true median under H1, you should adjust this based on your expectations\n",
        "n_simulations = 1000  # Number of simulations\n",
        "n = len(sample)  # Sample size\n",
        "\n",
        "# Simulation\n",
        "rejections = 0\n",
        "for _ in range(n_simulations):\n",
        "    simulated_sample = beta.rvs(a, b, size=n)  # Generate a sample\n",
        "    simulated_sample = simulated_sample - np.median(simulated_sample) + true_median  # Adjust the median to the true median\n",
        "    stat, p = wilcoxon(simulated_sample - 0.4, alternative='greater')\n",
        "    if p < alpha:\n",
        "        rejections += 1\n",
        "\n",
        "# Calculate power\n",
        "power = rejections / n_simulations\n",
        "\n",
        "print(f\"Estimated power of the test: {power}\")\n"
      ],
      "metadata": {
        "colab": {
          "base_uri": "https://localhost:8080/"
        },
        "id": "OXHu5l4J0bxY",
        "outputId": "5011ddaa-4748-4ea4-eb6d-eb0f1ed71f13"
      },
      "execution_count": 6,
      "outputs": [
        {
          "output_type": "stream",
          "name": "stdout",
          "text": [
            "Estimated power of the test: 1.0\n"
          ]
        }
      ]
    },
    {
      "cell_type": "markdown",
      "source": [
        "# Part 3 and 4 :"
      ],
      "metadata": {
        "id": "F4PeHVfR5ql1"
      }
    },
    {
      "cell_type": "code",
      "source": [
        "# Wilcoxon signed-rank test for H0: M = 0.6\n",
        "stat, p_value_06 = stats.wilcoxon(sample - 0.6, alternative='greater')\n",
        "\n",
        "print(f\"P-value for H0: M = 0.6: {p_value_06}\")\n"
      ],
      "metadata": {
        "colab": {
          "base_uri": "https://localhost:8080/"
        },
        "id": "d8F1bwMN5uHl",
        "outputId": "c4af7817-9170-477a-a6f0-e9bb279ee448"
      },
      "execution_count": 13,
      "outputs": [
        {
          "output_type": "stream",
          "name": "stdout",
          "text": [
            "P-value for H0: M = 0.6: 0.9999999999997753\n"
          ]
        }
      ]
    },
    {
      "cell_type": "markdown",
      "source": [
        "**2 tailed**"
      ],
      "metadata": {
        "id": "zqGXA_QB55De"
      }
    },
    {
      "cell_type": "code",
      "source": [
        "# Wilcoxon signed-rank test for H0: M = 0.6\n",
        "stat, p_value_06 = stats.wilcoxon(sample - 0.6, alternative='two-sided')\n",
        "\n",
        "print(f\"P-value for H0: M = 0.6: {p_value_06}\")"
      ],
      "metadata": {
        "colab": {
          "base_uri": "https://localhost:8080/"
        },
        "id": "VLTkweVz50F3",
        "outputId": "66bb23db-e4c2-4d6e-9e3d-84845969c6a7"
      },
      "execution_count": 14,
      "outputs": [
        {
          "output_type": "stream",
          "name": "stdout",
          "text": [
            "P-value for H0: M = 0.6: 5.453415496958769e-13\n"
          ]
        }
      ]
    },
    {
      "cell_type": "markdown",
      "source": [
        "one tailed power"
      ],
      "metadata": {
        "id": "WOCC47FA5zsc"
      }
    },
    {
      "cell_type": "code",
      "source": [
        " import matplotlib.pyplot as plt\n",
        "# Parameters for the simulation\n",
        "n_simulations = 10000\n",
        "alpha = 0.05  # Significance level\n",
        "a, b = 2, 5  # Parameters for the beta distribution\n",
        "\n",
        "# Simulation\n",
        "rejections = 0\n",
        "for _ in range(n_simulations):\n",
        "    simulated_sample = np.random.beta(a, b, 50)  # Generate a sample\n",
        "    stat, p = stats.wilcoxon(simulated_sample - 0.6, alternative='greater')\n",
        "    if p < alpha:\n",
        "        rejections += 1\n",
        "\n",
        "# Calculate power\n",
        "power = rejections / n_simulations\n",
        "print(f\"Estimated power of the test for H0: M = 0.6: {power}\")\n",
        "\n",
        "# Histogram of the sample\n",
        "plt.hist(sample, bins=20, alpha=0.75)\n",
        "plt.title('Sample Distribution')\n",
        "plt.xlabel('Value')\n",
        "plt.ylabel('Frequency')\n",
        "plt.show()\n"
      ],
      "metadata": {
        "colab": {
          "base_uri": "https://localhost:8080/",
          "height": 490
        },
        "id": "BlXtIfjb6CiI",
        "outputId": "0d103517-1146-4edd-a4c4-03fab530ed6c"
      },
      "execution_count": 23,
      "outputs": [
        {
          "output_type": "stream",
          "name": "stdout",
          "text": [
            "Estimated power of the test for H0: M = 0.6: 0.0\n"
          ]
        },
        {
          "output_type": "display_data",
          "data": {
            "text/plain": [
              "<Figure size 640x480 with 1 Axes>"
            ],
            "image/png": "[encoded data removed]"
          },
          "metadata": {}
        }
      ]
    },
    {
      "cell_type": "markdown",
      "source": [
        "In practice, a power of 0.0 would prompt a review of the test setup, including considering whether the assumed distribution under H1 is accurate or if the sample size is sufficient."
      ],
      "metadata": {
        "id": "pJPbSv4Q7-m0"
      }
    },
    {
      "cell_type": "markdown",
      "source": [
        "When comparing the results from the hypothesis tests and power calculations for 0.4 M=0.4 and 0.6\n",
        "M=0.6, consider the following points:\n",
        "\n",
        "P-Values:\n",
        "\n",
        "For 0.4\n",
        "M=0.4, the p-value was very high (approximately 0.99998), suggesting that the sample median was not significantly greater than 0.4.\n",
        "For0.6\n",
        "M=0.6, the p-value was also very high (approximately 1.0), reinforcing the conclusion that the sample median was not significantly greater than 0.6.\n",
        "Power of the Test:\n",
        "\n",
        "The power for the test where 0.4\n",
        "M=0.4 was not computed in the steps we followed, but if it was, it would reflect the test's ability to correctly reject the null hypothesis when the true median is greater than 0.4.\n",
        "The power for the test where 0.6\n",
        "M=0.6 was computed to be 0.0, suggesting the test had no ability to detect a true median greater than 0.6 under the given sample size and distribution.\n",
        "Justification for Change in Power:\n",
        "\n",
        "Increased Null Hypothesis Median: Increasing the null hypothesis median from 0.4 to 0.6, while keeping the sample the same, means you are testing against a larger median value. If the sample median is closer to 0.4 than to 0.6, it's expected that it would be harder to detect a significant difference from 0.6 than from 0.4.\n",
        "Effect Size: The effect size is the difference between the null hypothesis median and the true median. If the true median of the sample is closer to 0.4 than to 0.6, then the effect size for 0.6\n",
        "M=0.6 is smaller than for 0.4\n",
        "M=0.4, making it harder to detect and leading to a lower power.\n",
        "Sensitivity of the Test: The Wilcoxon signed-rank test, being a nonparametric test, does not assume a specific distribution and is generally less sensitive than parametric tests. This means that detecting small differences from the null hypothesis median can be challenging, especially with a smaller effect size or sample size.\n",
        "In summary, the change in the null hypothesis median from 0.4 to 0.6, combined with the characteristics of the sample and the nature of the Wilcoxon signed-rank test, likely contributed to a decrease in the power of the test. The test for0.6\n",
        "M=0.6 had very little power to detect a difference, indicating that if the true median were indeed greater than 0.6, this test setup (with the given sample size and distribution) would not reliably detect it."
      ],
      "metadata": {
        "id": "A7kZVkBx8-C6"
      }
    }
  ]
}
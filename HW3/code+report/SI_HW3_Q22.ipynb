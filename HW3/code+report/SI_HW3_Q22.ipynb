{
  "nbformat": 4,
  "nbformat_minor": 0,
  "metadata": {
    "colab": {
      "provenance": []
    },
    "kernelspec": {
      "name": "python3",
      "display_name": "Python 3"
    },
    "language_info": {
      "name": "python"
    }
  },
  "cells": [
    {
      "cell_type": "markdown",
      "source": [
        "# part one:"
      ],
      "metadata": {
        "id": "faUu0rn-BYV7"
      }
    },
    {
      "cell_type": "markdown",
      "source": [
        "\n",
        "**Goodness-of-Fit Test for Binomial Distribution**\n",
        "\n",
        "In order to test the hypothesis $H_0 $ that the random variables $ X_1, X_2, \\ldots, X_{6115} $ are binomially distributed with parameters $n = 12 $ and $p = 0.5 $, we can use a goodness-of-fit test, such as the Chi-square test. Here's how you can approach this test:\n",
        "\n",
        "1. **Expected Frequencies**: First, calculate the expected frequencies for each category (number of sons from 0 to 12) using the binomial distribution formula:\n",
        "\n",
        "   $$\n",
        "   \\text{Expected frequency for } k \\text{ sons} = \\binom{12}{k} \\cdot 0.5^k \\cdot 0.5^{12-k} \\cdot N\n",
        "   $$\n",
        "\n",
        "   where $\\binom{12}{k}$ is the binomial coefficient, 0.5 is the assumed probability of having a son under the null hypothesis, $n$ is the number of trials (12 in this case), and $N$ is the total number of families (6115).\n",
        "\n",
        "2. **Chi-square Statistic**: Next, calculate the chi-square statistic using the formula:\n",
        "\n",
        "   $$\n",
        "   \\chi^2 = \\sum \\frac{(O_i - E_i)^2}{E_i}\n",
        "   $$\n",
        "\n",
        "   where $O_i$ is the observed frequency and $E_i$ is the expected frequency for each category.\n",
        "\n",
        "3. **Degrees of Freedom**: Determine the degrees of freedom for the test, which would be the number of categories minus 1 minus the number of parameters estimated from the data. Since we are estimating $p $, the degrees of freedom would be $ 12 - 1 - 1 = 10 $.\n",
        "\n",
        "4. **P-value**: Compare the calculated chi-square statistic to the chi-square distribution with the appropriate degrees of freedom to obtain a p-value.\n",
        "\n",
        "5. **Decision Rule**: If the p-value is less than the chosen significance level (usually 0.05), you would reject the null hypothesis, concluding that the data do not follow a binomial distribution with the given parameters. If the p-value is greater than the significance level, you would not reject the null hypothesis.\n",
        "\n",
        "This test allows us to assess whether the observed distribution of sons in families is consistent with a binomial distribution with $ n = 12 $ and $p = 0.5$"
      ],
      "metadata": {
        "id": "k45YK3moBdko"
      }
    },
    {
      "cell_type": "code",
      "execution_count": 2,
      "metadata": {
        "colab": {
          "base_uri": "https://localhost:8080/"
        },
        "id": "IAxeYq2TvoX5",
        "outputId": "7812c435-afe5-43e3-f18b-e0ddd63ad0c7"
      },
      "outputs": [
        {
          "output_type": "stream",
          "name": "stdout",
          "text": [
            "Expected frequencies: [   1.49291992   17.91503906   98.53271484  328.44238281  738.99536133\n",
            " 1182.39257813 1379.45800781 1182.39257813  738.99536133  328.44238281\n",
            "   98.53271484   17.91503906    1.49291992]\n",
            "Chi-square statistic: 249.19544266399544\n",
            "Degrees of freedom: 11\n",
            "P-value: 4.117920790991538e-47\n"
          ]
        }
      ],
      "source": [
        "from scipy.stats import binom, chi2\n",
        "import numpy as np\n",
        "\n",
        "# Given data\n",
        "observed_frequencies = np.array([7, 45, 181, 478, 829, 1112, 1343, 1033, 670, 286, 104, 24, 3])\n",
        "n = 12  # number of trials (number of children)\n",
        "p = 0.5  # probability under the null hypothesis (probability of having a son)\n",
        "N = 6115  # total number of families\n",
        "\n",
        "# Calculate expected frequencies using the binomial distribution\n",
        "expected_frequencies = np.array([binom.pmf(k, n, p) * N for k in range(n + 1)])\n",
        "\n",
        "# Calculate chi-square statistic\n",
        "chi_square_statistic = ((observed_frequencies - expected_frequencies) ** 2 / expected_frequencies).sum()\n",
        "degrees_of_freedom = n - 1  # degrees of freedom (12 categories - 1 parameter estimated)\n",
        "\n",
        "# Calculate the p-value from the chi-square statistic\n",
        "p_value = chi2.sf(chi_square_statistic, degrees_of_freedom)\n",
        "\n",
        "# Print the results\n",
        "print(f\"Expected frequencies: {expected_frequencies}\")\n",
        "print(f\"Chi-square statistic: {chi_square_statistic}\")\n",
        "print(f\"Degrees of freedom: {degrees_of_freedom}\")\n",
        "print(f\"P-value: {p_value}\")\n"
      ]
    },
    {
      "cell_type": "markdown",
      "source": [
        "# part two:"
      ],
      "metadata": {
        "id": "ZZ2t87eYHGDg"
      }
    },
    {
      "cell_type": "code",
      "source": [
        "import matplotlib.pyplot as plt\n",
        "\n",
        "# Number of simulations\n",
        "num_simulations = 10000\n",
        "simulated_chi_square_statistics = []\n",
        "\n",
        "# Run the simulations\n",
        "for _ in range(num_simulations):\n",
        "    # Simulate the observed frequencies: simulate a family having 12 children 6115 times\n",
        "    simulated_observed = np.random.binomial(n, p, N)\n",
        "    # Calculate the frequency of each possible outcome (0 to 12 sons)\n",
        "    simulated_frequencies = np.array([np.sum(simulated_observed == k) for k in range(n + 1)])\n",
        "    # Calculate chi-square statistic for the simulation\n",
        "    simulated_chi_square = ((simulated_frequencies - expected_frequencies) ** 2 / expected_frequencies).sum()\n",
        "    # Store the statistic\n",
        "    simulated_chi_square_statistics.append(simulated_chi_square)\n",
        "\n",
        "# Plot the histogram of the simulated chi-square statistics\n",
        "plt.hist(simulated_chi_square_statistics, bins=30, edgecolor='black')\n",
        "plt.xlabel('Chi-square statistic')\n",
        "plt.ylabel('Frequency')\n",
        "plt.title('Distribution of Chi-square statistic from simulations')\n",
        "plt.show()\n"
      ],
      "metadata": {
        "colab": {
          "base_uri": "https://localhost:8080/",
          "height": 472
        },
        "id": "UO4Rpg3FDQJM",
        "outputId": "712dd38e-862a-4a95-f69b-f54dc3d13940"
      },
      "execution_count": 3,
      "outputs": [
        {
          "output_type": "display_data",
          "data": {
            "text/plain": [
              "<Figure size 640x480 with 1 Axes>"
            ],
            "image/png": "[encoded data removed]"
          },
          "metadata": {}
        }
      ]
    },
    {
      "cell_type": "markdown",
      "source": [
        "the histogram showing the distribution of the Chi-square statistic from the simulations. Each simulation represents a hypothetical set of 6115 families with 12 children each, under the assumption that the number of sons in each family follows a binomial distribution with p=0.5."
      ],
      "metadata": {
        "id": "mwXvxM_5HBC6"
      }
    },
    {
      "cell_type": "markdown",
      "source": [
        "# Part three:"
      ],
      "metadata": {
        "id": "-ERp8lwHHQL5"
      }
    },
    {
      "cell_type": "code",
      "source": [
        "# Calculate the p-value for the observed chi-square statistic from part a\n",
        "# by comparing it to the distribution obtained from the simulation\n",
        "observed_chi_square_statistic = 249.19544266399507  # from part a\n",
        "simulated_chi_square_array = np.array(simulated_chi_square_statistics)\n",
        "\n",
        "# The p-value is the proportion of simulated chi-square statistics\n",
        "# that are greater than the observed chi-square statistic\n",
        "simulated_p_value = np.mean(simulated_chi_square_array >= observed_chi_square_statistic)\n",
        "\n",
        "# Check if we reject the null hypothesis with alpha = 0.05\n",
        "alpha = 0.05\n",
        "reject_h0 = simulated_p_value < alpha\n",
        "\n",
        "simulated_p_value, reject_h0\n"
      ],
      "metadata": {
        "colab": {
          "base_uri": "https://localhost:8080/"
        },
        "id": "TUkpVzakHEYu",
        "outputId": "e27e2fc4-ad71-40e8-d62c-02ff50324e43"
      },
      "execution_count": 4,
      "outputs": [
        {
          "output_type": "execute_result",
          "data": {
            "text/plain": [
              "(0.0, True)"
            ]
          },
          "metadata": {},
          "execution_count": 4
        }
      ]
    },
    {
      "cell_type": "markdown",
      "source": [
        "Based on the distribution obtained from the simulation, the p-value for the observed Chi-square statistic from part a is 0.0, which implies that none of the simulations produced a Chi-square value as extreme as the observed statistic.\n",
        "\n",
        "With $ \\alpha = 0.05 $, the null hypothesis $H_0 $ is rejected because the simulated p-value is less than $ \\alpha $. This result is consistent with the earlier p-value calculation using the theoretical Chi-square distribution, confirming that the observed data significantly deviate from what would be expected under a binomial distribution with $ p = 0.5 $ and $ n = 12 $."
      ],
      "metadata": {
        "id": "ocULae2-Hp61"
      }
    },
    {
      "cell_type": "code",
      "source": [],
      "metadata": {
        "id": "FcB_hcysH3lZ"
      },
      "execution_count": null,
      "outputs": []
    }
  ]
}
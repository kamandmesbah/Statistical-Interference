{
  "nbformat": 4,
  "nbformat_minor": 0,
  "metadata": {
    "colab": {
      "provenance": []
    },
    "kernelspec": {
      "name": "python3",
      "display_name": "Python 3"
    },
    "language_info": {
      "name": "python"
    }
  },
  "cells": [
    {
      "cell_type": "markdown",
      "source": [
        "# Part one:"
      ],
      "metadata": {
        "id": "jy5C3Yqe9oO0"
      }
    },
    {
      "cell_type": "markdown",
      "source": [
        "The hypothesis concerns the equality of variances of two normally distributed populations. In statistics, to test the null hypothesis ( H_0: σx = σy ), several methods could be used, depending on the circumstances and the assumptions you can make about the data. Here are some of the most common tests:\n",
        "\n",
        "1. **F-Test of Equality of Variances**: This test is used if you can assume that the two populations follow a normal distribution. The test statistic is the ratio of the two sample variances, and it follows an F-distribution under the null hypothesis. However, it's sensitive to the assumption of normality.\n",
        "\n",
        "2. **Levene's Test**: This test is less sensitive to departures from normality and is based on the absolute differences between observations and their group mean. It's often used before a two-sample t-test when variances are assumed to be unequal.\n",
        "\n",
        "3. **Bartlett’s Test**: This is another test that is sensitive to non-normality. It is used to test if k samples are from populations with equal variances. Some statisticians prefer it when the sample size is large and the data are normally distributed.\n",
        "\n",
        "4. **Brown-Forsythe Test**: Similar to Levene's test, this test is less sensitive to non-normal distributions. It uses the median to calculate the differences rather than the mean.\n",
        "\n",
        "5. **Welch’s Test**: Although more commonly known for comparing means without assuming equal variances, Welch's test can be adjusted to assess the equality of variances.\n",
        "\n",
        "6. **Bootstrapping Methods**: Non-parametric bootstrapping can be used to assess the equality of variances by resampling the data with replacement and comparing the variability in the resampled data.\n",
        "\n",
        "The choice of method depends on the size of samples and the normality of the data. If your data is normally distributed, the F-test is a classic choice, but if  suspect any deviations from normality, Levene's or Brown-Forsythe tests may be better options. For large samples, Bartlett’s test could be appropriate if the data are normally distributed. If have no strong assumptions about the underlying distribution, bootstrapping methods would be robust and powerful alternatives."
      ],
      "metadata": {
        "id": "7GKrHBQd93kL"
      }
    },
    {
      "cell_type": "markdown",
      "source": [
        "I choose F-Test of Equality of Variances"
      ],
      "metadata": {
        "id": "1Q0NfzTt-4Jz"
      }
    },
    {
      "cell_type": "markdown",
      "source": [
        "The F-statistic is calculated as the ratio of the two sample variances. Since the F-distribution is defined to be non-negative, and the F-statistic should always be greater than or equal to 1, you divide the larger variance by the smaller variance. Thus, $$F = \\frac{s_{\\text{larger}}^2}{s_{\\text{smaller}}^2}$$."
      ],
      "metadata": {
        "id": "ecUJ_Aeb-wUy"
      }
    },
    {
      "cell_type": "markdown",
      "source": [
        "# Part two:"
      ],
      "metadata": {
        "id": "IFHt2oF49tHA"
      }
    },
    {
      "cell_type": "code",
      "source": [
        "# Let's define the function and run it with the example provided\n",
        "def perform_f_test(sample_var_x, sample_var_y, n1, n2, alpha=0.05):\n",
        "    # Calculate the F-statistic\n",
        "    f_statistic = sample_var_x / sample_var_y\n",
        "\n",
        "    # Degrees of freedom\n",
        "    df_x = n1 - 1\n",
        "    df_y = n2 - 1\n",
        "\n",
        "    # Calculate the critical value from the F-distribution\n",
        "    critical_value_high = f.ppf(1 - alpha / 2, df_x, df_y)\n",
        "    critical_value_low = f.ppf(alpha / 2, df_x, df_y)\n",
        "\n",
        "    # Calculate the p-value\n",
        "    p_value = 2 * min(f.cdf(f_statistic, df_x, df_y), 1 - f.cdf(f_statistic, df_x, df_y))\n",
        "\n",
        "    # Print results\n",
        "    print(\"F-Statistic:\", f_statistic)\n",
        "    print(\"Critical Value (low):\", critical_value_low)\n",
        "    print(\"Critical Value (high):\", critical_value_high)\n",
        "    print(\"P-Value:\", p_value)\n",
        "\n",
        "    # Make a decision\n",
        "    if p_value < alpha:\n",
        "        print(\"Reject the null hypothesis: Variances are significantly different.\")\n",
        "    else:\n",
        "        print(\"Fail to reject the null hypothesis: No significant difference in variances.\")\n",
        "\n",
        "# Generate samples from two normal distributions with variances 3 and 10\n",
        "np.random.seed(42)  # for reproducibility\n",
        "sample_x = np.random.normal(0, np.sqrt(3), 100)\n",
        "sample_y = np.random.normal(0, np.sqrt(10), 100)\n",
        "\n",
        "# Perform F-test using the sample variances and the sample sizes\n",
        "perform_f_test(np.var(sample_x, ddof=1), np.var(sample_y, ddof=1), len(sample_x), len(sample_y))\n"
      ],
      "metadata": {
        "colab": {
          "base_uri": "https://localhost:8080/"
        },
        "id": "qPlLszIm9szS",
        "outputId": "7c20bfc5-7260-48cd-e82e-95045a7ef5dc"
      },
      "execution_count": 2,
      "outputs": [
        {
          "output_type": "stream",
          "name": "stdout",
          "text": [
            "F-Statistic: 0.27205627901156026\n",
            "Critical Value (low): 0.6728416631266823\n",
            "Critical Value (high): 1.486233767619293\n",
            "P-Value: 4.0593510835331427e-10\n",
            "Reject the null hypothesis: Variances are significantly different.\n"
          ]
        }
      ]
    },
    {
      "cell_type": "markdown",
      "source": [
        "Based on the example provided and the function execution, the F-statistic calculated is approximately 0.272. The critical values for the F-distribution at the 95% confidence level (with an alpha level of 0.05) are approximately 0.673 and 1.486. The p-value obtained is extremely small, which is much lower than the significance level of 0.05.\n",
        "\n",
        "Therefore, the result of the F-test leads us to reject the null hypothesis, indicating that there is a statistically significant difference between the variances of the two samples. The sample variances used in this test are estimations from the generated samples which are based on the underlying population variances of 3 and 10 respectively."
      ],
      "metadata": {
        "id": "VjlBd9Ph__ip"
      }
    }
  ]
}